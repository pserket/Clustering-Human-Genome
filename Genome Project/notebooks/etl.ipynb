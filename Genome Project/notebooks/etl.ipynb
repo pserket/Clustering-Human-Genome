{
 "cells": [
  {
   "cell_type": "code",
   "execution_count": 17,
   "metadata": {},
   "outputs": [],
   "source": [
    "import pandas as pd"
   ]
  },
  {
   "cell_type": "code",
   "execution_count": 18,
   "metadata": {},
   "outputs": [
    {
     "name": "stdout",
     "output_type": "stream",
     "text": [
      "zarr 2.4.0 numcodecs 0.6.4\n",
      "0.15.4\n",
      "1.2.1\n",
      "1.76\n"
     ]
    }
   ],
   "source": [
    "# !pip install --user pysam\n",
    "# !pip install --user scikit-allel\n",
    "# !pip install --user biopython\n",
    "# !pip install --user html5lib\n",
    "# !pip install --user pytabix\n",
    "# !pip install --user wget\n",
    "# !pip install --user numcodecs\n",
    "# !pip install --user zarr\n",
    "# !pip install --user ipytree\n",
    "import pysam # module to read BAM alignment files and API to samtools\n",
    "import allel # module to read VCF files\n",
    "import Bio # module to read FASTQ files (Use SeqIO)\n",
    "import wget\n",
    "import numcodecs\n",
    "import zarr\n",
    "import ipytree\n",
    "import urllib\n",
    "\n",
    "print('zarr', zarr.__version__, 'numcodecs', numcodecs.__version__)\n",
    "print(pysam.__version__)\n",
    "print(allel.__version__)\n",
    "print(Bio.__version__)"
   ]
  },
  {
   "cell_type": "code",
   "execution_count": 3,
   "metadata": {},
   "outputs": [],
   "source": [
    "# TENTATIVE: configs for the future??? population, number samples, filetype\n",
    "\n",
    "\n",
    "# base_url = 'ftp://ftp.1000genomes.ebi.ac.uk/vol1/ftp/data_collections/1000_genomes_project/data/'\n",
    "# outpath = './biodata'"
   ]
  },
  {
   "cell_type": "markdown",
   "metadata": {},
   "source": [
    "## Test VCF"
   ]
  },
  {
   "cell_type": "code",
   "execution_count": 4,
   "metadata": {},
   "outputs": [],
   "source": [
    "import os\n",
    "# os.getcwd()"
   ]
  },
  {
   "cell_type": "code",
   "execution_count": 5,
   "metadata": {},
   "outputs": [],
   "source": [
    "import shutil\n",
    "import urllib.request as request\n",
    "from contextlib import closing\n",
    "from urllib.error import URLError\n",
    "\n",
    "import sys\n",
    "import time\n",
    "import urllib\n",
    "import subprocess\n",
    "\n",
    "url = [(\"http://ftp.1000genomes.ebi.ac.uk/vol1/ftp/release/20130502/ALL.chr21.phase3_shapeit2_mvncall_integrated_v5a.20130502.genotypes.vcf.gz\")]\n",
    "outpath = \"./biodata\"\n",
    "\n",
    "### FROM BLOG: https://blog.shichao.io/2012/10/04/progress_speed_indicator_for_urlretrieve_in_python.html\n",
    "# adds download progress bar to urlretrieve\n",
    "def reporthook(count, block_size, total_size):\n",
    "    global start_time\n",
    "    if count == 0:\n",
    "        start_time = time.time()\n",
    "        return\n",
    "    duration = time.time() - start_time\n",
    "    progress_size = int(count * block_size)\n",
    "    speed = int(progress_size / (1024 * duration))\n",
    "    percent = int(count * block_size * 100 / total_size)\n",
    "    sys.stdout.write(\"\\r...%d%%, %d MB, %d KB/s, %d seconds passed\" %\n",
    "                    (percent, progress_size / (1024 * 1024), speed, duration))\n",
    "    sys.stdout.flush()\n",
    "###\n",
    "\n",
    "def get_biodata(urls, outdir):\n",
    "    \"\"\" Feed config file with array of urls, and directory to save at.\n",
    "    \"\"\"\n",
    "    files_downloaded = []\n",
    "    for url in urls:\n",
    "        files_downloaded.append(get_biofile(url, outdir))\n",
    "    return files_downloaded\n",
    "\n",
    "        \n",
    "# in the future maybe specify number, chromosome, population, etc.\n",
    "def get_biofile(url, outdir):\n",
    "    \"\"\" Helper to specifically download one file from url to out directory.\n",
    "    \"\"\"\n",
    "    filename = url.split('/')[-1]\n",
    "    \n",
    "    if not os.path.exists(outdir):\n",
    "        os.mkdir(outdir)\n",
    "\n",
    "    fullpath = os.path.join(outdir, filename) \n",
    "\n",
    "    print(\"Downloading...\")\n",
    "    urllib.request.urlretrieve(url, fullpath, reporthook) # downloads to fullpath\n",
    "    \n",
    "    for_check_zip = '.gz'\n",
    "    if url.endswith(for_check_zip):\n",
    "        print()\n",
    "        print(\"Unzipping\")\n",
    "        subprocess.run([\"unzip\",fullpath])\n",
    "        \n",
    "    return fullpath        \n"
   ]
  },
  {
   "cell_type": "code",
   "execution_count": 6,
   "metadata": {},
   "outputs": [],
   "source": [
    "# can only do vcf for now\n",
    "def process_file(fullpath):\n",
    "    \"\"\" Converts VCF file to zarr format and file.\n",
    "        Fullpath is the path to the file. Outpath is where to put the zarr file.\n",
    "    \"\"\"\n",
    "#     callset = allel.read_vcf(fullpath, fields=['numalt'], log=sys.stdout)\n",
    "    filename = fullpath.split('/')[-1]\n",
    "\n",
    "     # choose a name for the zarr storage file\n",
    "    zarrpath = \"\".join(filename.split('.')[:-2])\n",
    "    print(zarrpath)\n",
    "\n",
    "    # CONVERTING TO ZARR STORAGE\n",
    "    allel.vcf_to_zarr(fullpath, zarrpath, #group\n",
    "        fields='*', alt_number=8, log=sys.stdout,\n",
    "        compressor=numcodecs.Blosc(cname='zstd', clevel=1, shuffle=False))\n",
    "\n",
    "\n"
   ]
  },
  {
   "cell_type": "code",
   "execution_count": 10,
   "metadata": {},
   "outputs": [
    {
     "name": "stdout",
     "output_type": "stream",
     "text": [
      "Downloading...\n",
      "...100%, 208 MB, 417 KB/s, 511 seconds passed\n",
      "Unzipping\n"
     ]
    }
   ],
   "source": [
    "filepaths = get_biodata(url, outpath)"
   ]
  },
  {
   "cell_type": "code",
   "execution_count": 12,
   "metadata": {},
   "outputs": [
    {
     "data": {
      "text/plain": [
       "['./biodata/ALL.chr21.phase3_shapeit2_mvncall_integrated_v5a.20130502.genotypes.vcf.gz']"
      ]
     },
     "execution_count": 12,
     "metadata": {},
     "output_type": "execute_result"
    }
   ],
   "source": [
    "filepaths"
   ]
  },
  {
   "cell_type": "code",
   "execution_count": 14,
   "metadata": {},
   "outputs": [],
   "source": [
    "# for file in filepaths:    \n",
    "#     process_file(file)"
   ]
  },
  {
   "cell_type": "code",
   "execution_count": 16,
   "metadata": {},
   "outputs": [
    {
     "name": "stdout",
     "output_type": "stream",
     "text": [
      "ALLchr22shapeit2_integrated_v1aGRCh3820181129phased\n",
      "[vcf_to_zarr] 65536 rows in 18.56s; chunk in 18.56s (3531 rows/s); chr22\u0000:18123409\n",
      "[vcf_to_zarr] 131072 rows in 39.04s; chunk in 20.48s (3199 rows/s); chr22\u0000:21596309\n",
      "[vcf_to_zarr] 196608 rows in 58.35s; chunk in 19.30s (3395 rows/s); chr22\u0000:23701848\n",
      "[vcf_to_zarr] 262144 rows in 77.29s; chunk in 18.95s (3458 rows/s); chr22\u0000:26063969\n",
      "[vcf_to_zarr] 327680 rows in 95.56s; chunk in 18.27s (3587 rows/s); chr22\u0000:28338426\n",
      "[vcf_to_zarr] 393216 rows in 113.54s; chunk in 17.98s (3645 rows/s); chr22\u0000:30967114\n",
      "[vcf_to_zarr] 458752 rows in 131.08s; chunk in 17.54s (3737 rows/s); chr22\u0000:33417762\n",
      "[vcf_to_zarr] 524288 rows in 149.12s; chunk in 18.05s (3631 rows/s); chr22\u0000:35577332\n",
      "[vcf_to_zarr] 589824 rows in 166.99s; chunk in 17.87s (3667 rows/s); chr22\u0000:37793630\n",
      "[vcf_to_zarr] 655360 rows in 185.27s; chunk in 18.27s (3586 rows/s); chr22\u0000:40233598\n",
      "[vcf_to_zarr] 720896 rows in 203.37s; chunk in 18.10s (3620 rows/s); chr22\u0000:42788757\n",
      "[vcf_to_zarr] 786432 rows in 222.34s; chunk in 18.98s (3453 rows/s); chr22\u0000:44850581\n",
      "[vcf_to_zarr] 851968 rows in 240.89s; chunk in 18.55s (3533 rows/s); chr22\u0000:46818168\n",
      "[vcf_to_zarr] 917504 rows in 259.81s; chunk in 18.92s (3463 rows/s); chr22\u0000:48658124\n",
      "[vcf_to_zarr] 983040 rows in 278.71s; chunk in 18.90s (3468 rows/s); chr22\u0000:50431436\n",
      "[vcf_to_zarr] 993881 rows in 283.01s; chunk in 4.30s (2521 rows/s)\n",
      "[vcf_to_zarr] all done (3502 rows/s)\n"
     ]
    }
   ],
   "source": [
    "process_file('/datasets/dsc180a-wi20-public/Genome/vcf/ALL.chr22.shapeit2_integrated_v1a.GRCh38.20181129.phased.vcf.gz')"
   ]
  },
  {
   "cell_type": "code",
   "execution_count": 22,
   "metadata": {},
   "outputs": [
    {
     "data": {
      "text/plain": [
       "<zarr.hierarchy.Group '/' read-only>"
      ]
     },
     "execution_count": 22,
     "metadata": {},
     "output_type": "execute_result"
    }
   ],
   "source": [
    "# allel.vcf_to_zarr(vcf_path, zarr_path, group='22', fields='*', log=sys.stdout, overwrite=True)\n",
    "zarr.open_group('chr22TEST.genotypes.zarr', mode='r')"
   ]
  }
 ],
 "metadata": {
  "kernelspec": {
   "display_name": "Python 3",
   "language": "python",
   "name": "python3"
  },
  "language_info": {
   "codemirror_mode": {
    "name": "ipython",
    "version": 3
   },
   "file_extension": ".py",
   "mimetype": "text/x-python",
   "name": "python",
   "nbconvert_exporter": "python",
   "pygments_lexer": "ipython3",
   "version": "3.7.3"
  }
 },
 "nbformat": 4,
 "nbformat_minor": 2
}
