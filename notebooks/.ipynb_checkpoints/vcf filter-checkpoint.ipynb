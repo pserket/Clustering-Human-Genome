{
 "cells": [
  {
   "cell_type": "code",
   "execution_count": 105,
   "metadata": {},
   "outputs": [],
   "source": [
    "import subprocess\n",
    "import pandas as pd"
   ]
  },
  {
   "cell_type": "code",
   "execution_count": null,
   "metadata": {},
   "outputs": [],
   "source": []
  },
  {
   "cell_type": "code",
   "execution_count": 113,
   "metadata": {},
   "outputs": [],
   "source": [
    "def run_process(command):\n",
    "    p = subprocess.Popen(command, shell=True, stdout=subprocess.PIPE, stderr=subprocess.STDOUT)\n",
    "    for line in p.stdout.readlines():\n",
    "        print(line.strip())\n",
    "        \n",
    "    retval = p.wait()"
   ]
  },
  {
   "cell_type": "code",
   "execution_count": 107,
   "metadata": {},
   "outputs": [],
   "source": [
    "# set filters\n",
    "MAF='0.1' # --maf\n",
    "QUAL='30' # --qual-threshold\n",
    "# MIN_DEPTH='10'\n",
    "# MAX_DEPTH='50'"
   ]
  },
  {
   "cell_type": "code",
   "execution_count": 116,
   "metadata": {},
   "outputs": [
    {
     "name": "stdout",
     "output_type": "stream",
     "text": [
      "b'ALL.chr10.shapeit2_integrated_v1a.GRCh38.20181129.phased.vcf.gz'\n",
      "b'ALL.chr10.shapeit2_integrated_v1a.GRCh38.20181129.phased.vcf.gz.tbi'\n",
      "b'ALL.chr11.shapeit2_integrated_v1a.GRCh38.20181129.phased.vcf.gz'\n",
      "b'ALL.chr11.shapeit2_integrated_v1a.GRCh38.20181129.phased.vcf.gz.tbi'\n",
      "b'ALL.chr12.shapeit2_integrated_v1a.GRCh38.20181129.phased.vcf.gz'\n",
      "b'ALL.chr12.shapeit2_integrated_v1a.GRCh38.20181129.phased.vcf.gz.tbi'\n",
      "b'ALL.chr13.shapeit2_integrated_v1a.GRCh38.20181129.phased.vcf.gz'\n",
      "b'ALL.chr13.shapeit2_integrated_v1a.GRCh38.20181129.phased.vcf.gz.tbi'\n",
      "b'ALL.chr14.shapeit2_integrated_v1a.GRCh38.20181129.phased.vcf.gz'\n",
      "b'ALL.chr14.shapeit2_integrated_v1a.GRCh38.20181129.phased.vcf.gz.tbi'\n",
      "b'ALL.chr15.shapeit2_integrated_v1a.GRCh38.20181129.phased.vcf.gz'\n",
      "b'ALL.chr15.shapeit2_integrated_v1a.GRCh38.20181129.phased.vcf.gz.tbi'\n",
      "b'ALL.chr16.shapeit2_integrated_v1a.GRCh38.20181129.phased.vcf.gz'\n",
      "b'ALL.chr16.shapeit2_integrated_v1a.GRCh38.20181129.phased.vcf.gz.tbi'\n",
      "b'ALL.chr17.shapeit2_integrated_v1a.GRCh38.20181129.phased.vcf.gz'\n",
      "b'ALL.chr17.shapeit2_integrated_v1a.GRCh38.20181129.phased.vcf.gz.tbi'\n",
      "b'ALL.chr18.shapeit2_integrated_v1a.GRCh38.20181129.phased.vcf.gz'\n",
      "b'ALL.chr18.shapeit2_integrated_v1a.GRCh38.20181129.phased.vcf.gz.tbi'\n",
      "b'ALL.chr19.shapeit2_integrated_v1a.GRCh38.20181129.phased.vcf.gz'\n",
      "b'ALL.chr19.shapeit2_integrated_v1a.GRCh38.20181129.phased.vcf.gz.tbi'\n",
      "b'ALL.chr1.shapeit2_integrated_v1a.GRCh38.20181129.phased.vcf.gz'\n",
      "b'ALL.chr1.shapeit2_integrated_v1a.GRCh38.20181129.phased.vcf.gz.tbi'\n",
      "b'ALL.chr20.shapeit2_integrated_v1a.GRCh38.20181129.phased.vcf.gz'\n",
      "b'ALL.chr20.shapeit2_integrated_v1a.GRCh38.20181129.phased.vcf.gz.tbi'\n",
      "b'ALL.chr21.shapeit2_integrated_v1a.GRCh38.20181129.phased.vcf.gz'\n",
      "b'ALL.chr21.shapeit2_integrated_v1a.GRCh38.20181129.phased.vcf.gz.tbi'\n",
      "b'ALL.chr22.shapeit2_integrated_v1a.GRCh38.20181129.phased.vcf.gz'\n",
      "b'ALL.chr22.shapeit2_integrated_v1a.GRCh38.20181129.phased.vcf.gz.tbi'\n",
      "b'ALL.chr2.shapeit2_integrated_v1a.GRCh38.20181129.phased.vcf.gz'\n",
      "b'ALL.chr2.shapeit2_integrated_v1a.GRCh38.20181129.phased.vcf.gz.tbi'\n",
      "b'ALL.chr3.shapeit2_integrated_v1a.GRCh38.20181129.phased.vcf.gz'\n",
      "b'ALL.chr3.shapeit2_integrated_v1a.GRCh38.20181129.phased.vcf.gz.tbi'\n",
      "b'ALL.chr4.shapeit2_integrated_v1a.GRCh38.20181129.phased.vcf.gz'\n",
      "b'ALL.chr4.shapeit2_integrated_v1a.GRCh38.20181129.phased.vcf.gz.tbi'\n",
      "b'ALL.chr5.shapeit2_integrated_v1a.GRCh38.20181129.phased.vcf.gz'\n",
      "b'ALL.chr5.shapeit2_integrated_v1a.GRCh38.20181129.phased.vcf.gz.tbi'\n",
      "b'ALL.chr6.shapeit2_integrated_v1a.GRCh38.20181129.phased.vcf.gz'\n",
      "b'ALL.chr6.shapeit2_integrated_v1a.GRCh38.20181129.phased.vcf.gz.tbi'\n",
      "b'ALL.chr7.shapeit2_integrated_v1a.GRCh38.20181129.phased.vcf.gz'\n",
      "b'ALL.chr7.shapeit2_integrated_v1a.GRCh38.20181129.phased.vcf.gz.tbi'\n",
      "b'ALL.chr8.shapeit2_integrated_v1a.GRCh38.20181129.phased.vcf.gz'\n",
      "b'ALL.chr8.shapeit2_integrated_v1a.GRCh38.20181129.phased.vcf.gz.tbi'\n",
      "b'ALL.chr9.shapeit2_integrated_v1a.GRCh38.20181129.phased.vcf.gz'\n",
      "b'ALL.chr9.shapeit2_integrated_v1a.GRCh38.20181129.phased.vcf.gz.tbi'\n",
      "b'README.md'\n",
      "b'sample'\n"
     ]
    }
   ],
   "source": [
    "check_files = ['cd /datasets/dsc180a-wi20-public/Genome/vcf; ls']\n",
    "\n",
    "copy_test_file = 'cp /datasets/dsc180a-wi20-public/Genome/vcf/ALL.chr22.shapeit2_integrated_v1a.GRCh38.20181129.phased.vcf.gz* ./vcf'\n",
    "\n",
    "# vcf_to_bcf = '''for chr in {1..22}; do\n",
    "#     bcftools norm -m-any --check-ref w -f human_g1k_v37.fasta \\\n",
    "#       ALL.chr'${chr}'.phase3_shapeit2_mvncall_integrated_v5a.20130502.genotypes.vcf.gz | \\\n",
    "\n",
    "#       bcftools annotate -x ID -I +'%CHROM:%POS:%REF:%ALT' | \\\n",
    "\n",
    "#         bcftools norm -Ob --rm-dup both \\\n",
    "#           > ALL.chr'${chr}'.phase3_shapeit2_mvncall_integrated_v5a.20130502.genotypes.bcf ;\n",
    "\n",
    "#     bcftools index ALL.chr'${chr}'.phase3_shapeit2_mvncall_integrated_v5a.20130502.genotypes.bcf ;\n",
    "# done'''\n",
    "\n",
    "\n",
    "fp = './vcf/ALL.chr22.shapeit2_integrated_v1a.GRCh38.20181129.phased.vcf.gz'\n",
    "out_path = './vcf/filtered/chr22'\n",
    "\n",
    "args1 = ['plink2', '--vcf', fp, '--maf', MAF, '--qual-threshold', QUAL, '--indep-pairwise', '50', '10', '0.1', '--out', out_path]\n",
    "\n",
    "prune_fp = './vcf/filtered/chr22.prune.in'\n",
    "\n",
    "outdir = 'chr22pc'\n",
    "\n",
    "args2 = ['plink2', '--vcf', fp, '--extract', prune_fp, '--make-bed', '--pca', '--out', outdir]\n",
    "\n",
    "# run_process(check_files)\n",
    "# run_process(copy_test_file)\n",
    "run_process(check_files)"
   ]
  },
  {
   "cell_type": "code",
   "execution_count": 120,
   "metadata": {},
   "outputs": [
    {
     "data": {
      "text/html": [
       "<div>\n",
       "<style scoped>\n",
       "    .dataframe tbody tr th:only-of-type {\n",
       "        vertical-align: middle;\n",
       "    }\n",
       "\n",
       "    .dataframe tbody tr th {\n",
       "        vertical-align: top;\n",
       "    }\n",
       "\n",
       "    .dataframe thead th {\n",
       "        text-align: right;\n",
       "    }\n",
       "</style>\n",
       "<table border=\"1\" class=\"dataframe\">\n",
       "  <thead>\n",
       "    <tr style=\"text-align: right;\">\n",
       "      <th></th>\n",
       "      <th>0</th>\n",
       "    </tr>\n",
       "  </thead>\n",
       "  <tbody>\n",
       "    <tr>\n",
       "      <th>0</th>\n",
       "      <td>47.70210</td>\n",
       "    </tr>\n",
       "    <tr>\n",
       "      <th>1</th>\n",
       "      <td>15.07800</td>\n",
       "    </tr>\n",
       "    <tr>\n",
       "      <th>2</th>\n",
       "      <td>6.67823</td>\n",
       "    </tr>\n",
       "    <tr>\n",
       "      <th>3</th>\n",
       "      <td>5.51712</td>\n",
       "    </tr>\n",
       "    <tr>\n",
       "      <th>4</th>\n",
       "      <td>4.15407</td>\n",
       "    </tr>\n",
       "  </tbody>\n",
       "</table>\n",
       "</div>"
      ],
      "text/plain": [
       "          0\n",
       "0  47.70210\n",
       "1  15.07800\n",
       "2   6.67823\n",
       "3   5.51712\n",
       "4   4.15407"
      ]
     },
     "execution_count": 120,
     "metadata": {},
     "output_type": "execute_result"
    }
   ],
   "source": [
    "eigval = pd.read_table('chr22pc.eigenval', header = None)\n",
    "eigval.head()"
   ]
  },
  {
   "cell_type": "code",
   "execution_count": 121,
   "metadata": {},
   "outputs": [
    {
     "data": {
      "text/html": [
       "<div>\n",
       "<style scoped>\n",
       "    .dataframe tbody tr th:only-of-type {\n",
       "        vertical-align: middle;\n",
       "    }\n",
       "\n",
       "    .dataframe tbody tr th {\n",
       "        vertical-align: top;\n",
       "    }\n",
       "\n",
       "    .dataframe thead th {\n",
       "        text-align: right;\n",
       "    }\n",
       "</style>\n",
       "<table border=\"1\" class=\"dataframe\">\n",
       "  <thead>\n",
       "    <tr style=\"text-align: right;\">\n",
       "      <th></th>\n",
       "      <th>0</th>\n",
       "      <th>1</th>\n",
       "      <th>2</th>\n",
       "      <th>3</th>\n",
       "      <th>4</th>\n",
       "      <th>5</th>\n",
       "      <th>6</th>\n",
       "      <th>7</th>\n",
       "      <th>8</th>\n",
       "      <th>9</th>\n",
       "      <th>...</th>\n",
       "      <th>12</th>\n",
       "      <th>13</th>\n",
       "      <th>14</th>\n",
       "      <th>15</th>\n",
       "      <th>16</th>\n",
       "      <th>17</th>\n",
       "      <th>18</th>\n",
       "      <th>19</th>\n",
       "      <th>20</th>\n",
       "      <th>21</th>\n",
       "    </tr>\n",
       "  </thead>\n",
       "  <tbody>\n",
       "    <tr>\n",
       "      <th>0</th>\n",
       "      <td>HG00096</td>\n",
       "      <td>HG00096</td>\n",
       "      <td>-0.010348</td>\n",
       "      <td>-0.028370</td>\n",
       "      <td>-0.019065</td>\n",
       "      <td>-0.026186</td>\n",
       "      <td>-0.000741</td>\n",
       "      <td>0.004028</td>\n",
       "      <td>-0.002879</td>\n",
       "      <td>0.002679</td>\n",
       "      <td>...</td>\n",
       "      <td>-0.001271</td>\n",
       "      <td>0.000738</td>\n",
       "      <td>0.000042</td>\n",
       "      <td>-0.004292</td>\n",
       "      <td>-0.000749</td>\n",
       "      <td>-0.001017</td>\n",
       "      <td>-0.000754</td>\n",
       "      <td>-0.000209</td>\n",
       "      <td>-0.001986</td>\n",
       "      <td>-0.001085</td>\n",
       "    </tr>\n",
       "    <tr>\n",
       "      <th>1</th>\n",
       "      <td>HG00097</td>\n",
       "      <td>HG00097</td>\n",
       "      <td>-0.011823</td>\n",
       "      <td>-0.022700</td>\n",
       "      <td>-0.009771</td>\n",
       "      <td>-0.013392</td>\n",
       "      <td>-0.000317</td>\n",
       "      <td>0.001267</td>\n",
       "      <td>0.001583</td>\n",
       "      <td>0.002581</td>\n",
       "      <td>...</td>\n",
       "      <td>-0.001683</td>\n",
       "      <td>-0.002614</td>\n",
       "      <td>-0.000508</td>\n",
       "      <td>0.000985</td>\n",
       "      <td>0.001520</td>\n",
       "      <td>0.001406</td>\n",
       "      <td>0.000146</td>\n",
       "      <td>0.002218</td>\n",
       "      <td>-0.000569</td>\n",
       "      <td>0.002309</td>\n",
       "    </tr>\n",
       "    <tr>\n",
       "      <th>2</th>\n",
       "      <td>HG00099</td>\n",
       "      <td>HG00099</td>\n",
       "      <td>-0.010487</td>\n",
       "      <td>-0.025631</td>\n",
       "      <td>-0.007195</td>\n",
       "      <td>-0.015820</td>\n",
       "      <td>-0.001671</td>\n",
       "      <td>-0.001202</td>\n",
       "      <td>-0.000854</td>\n",
       "      <td>0.000985</td>\n",
       "      <td>...</td>\n",
       "      <td>0.000091</td>\n",
       "      <td>0.001380</td>\n",
       "      <td>0.000226</td>\n",
       "      <td>0.000461</td>\n",
       "      <td>0.000547</td>\n",
       "      <td>-0.003657</td>\n",
       "      <td>-0.000321</td>\n",
       "      <td>-0.000967</td>\n",
       "      <td>-0.003500</td>\n",
       "      <td>0.002758</td>\n",
       "    </tr>\n",
       "    <tr>\n",
       "      <th>3</th>\n",
       "      <td>HG00100</td>\n",
       "      <td>HG00100</td>\n",
       "      <td>-0.010383</td>\n",
       "      <td>-0.027250</td>\n",
       "      <td>-0.019007</td>\n",
       "      <td>-0.025723</td>\n",
       "      <td>-0.000361</td>\n",
       "      <td>-0.000198</td>\n",
       "      <td>0.000165</td>\n",
       "      <td>0.002307</td>\n",
       "      <td>...</td>\n",
       "      <td>-0.000564</td>\n",
       "      <td>-0.000433</td>\n",
       "      <td>-0.000382</td>\n",
       "      <td>0.000687</td>\n",
       "      <td>0.000964</td>\n",
       "      <td>-0.001513</td>\n",
       "      <td>0.000482</td>\n",
       "      <td>-0.000296</td>\n",
       "      <td>-0.003254</td>\n",
       "      <td>0.003257</td>\n",
       "    </tr>\n",
       "    <tr>\n",
       "      <th>4</th>\n",
       "      <td>HG00101</td>\n",
       "      <td>HG00101</td>\n",
       "      <td>-0.010356</td>\n",
       "      <td>-0.021877</td>\n",
       "      <td>-0.015228</td>\n",
       "      <td>-0.010931</td>\n",
       "      <td>0.000424</td>\n",
       "      <td>-0.000435</td>\n",
       "      <td>-0.000892</td>\n",
       "      <td>0.000529</td>\n",
       "      <td>...</td>\n",
       "      <td>0.000044</td>\n",
       "      <td>0.002492</td>\n",
       "      <td>-0.000198</td>\n",
       "      <td>-0.000737</td>\n",
       "      <td>-0.001300</td>\n",
       "      <td>0.001176</td>\n",
       "      <td>-0.001630</td>\n",
       "      <td>-0.000911</td>\n",
       "      <td>-0.000178</td>\n",
       "      <td>-0.002408</td>\n",
       "    </tr>\n",
       "  </tbody>\n",
       "</table>\n",
       "<p>5 rows × 22 columns</p>\n",
       "</div>"
      ],
      "text/plain": [
       "        0        1         2         3         4         5         6   \\\n",
       "0  HG00096  HG00096 -0.010348 -0.028370 -0.019065 -0.026186 -0.000741   \n",
       "1  HG00097  HG00097 -0.011823 -0.022700 -0.009771 -0.013392 -0.000317   \n",
       "2  HG00099  HG00099 -0.010487 -0.025631 -0.007195 -0.015820 -0.001671   \n",
       "3  HG00100  HG00100 -0.010383 -0.027250 -0.019007 -0.025723 -0.000361   \n",
       "4  HG00101  HG00101 -0.010356 -0.021877 -0.015228 -0.010931  0.000424   \n",
       "\n",
       "         7         8         9   ...        12        13        14        15  \\\n",
       "0  0.004028 -0.002879  0.002679  ... -0.001271  0.000738  0.000042 -0.004292   \n",
       "1  0.001267  0.001583  0.002581  ... -0.001683 -0.002614 -0.000508  0.000985   \n",
       "2 -0.001202 -0.000854  0.000985  ...  0.000091  0.001380  0.000226  0.000461   \n",
       "3 -0.000198  0.000165  0.002307  ... -0.000564 -0.000433 -0.000382  0.000687   \n",
       "4 -0.000435 -0.000892  0.000529  ...  0.000044  0.002492 -0.000198 -0.000737   \n",
       "\n",
       "         16        17        18        19        20        21  \n",
       "0 -0.000749 -0.001017 -0.000754 -0.000209 -0.001986 -0.001085  \n",
       "1  0.001520  0.001406  0.000146  0.002218 -0.000569  0.002309  \n",
       "2  0.000547 -0.003657 -0.000321 -0.000967 -0.003500  0.002758  \n",
       "3  0.000964 -0.001513  0.000482 -0.000296 -0.003254  0.003257  \n",
       "4 -0.001300  0.001176 -0.001630 -0.000911 -0.000178 -0.002408  \n",
       "\n",
       "[5 rows x 22 columns]"
      ]
     },
     "execution_count": 121,
     "metadata": {},
     "output_type": "execute_result"
    }
   ],
   "source": [
    "outdir = 'chr22pc'\n",
    "\n",
    "eigvec = pd.read_table(outdir + '.eigenvec', delimiter=' ', header = None)\n",
    "eigvec.head()"
   ]
  },
  {
   "cell_type": "code",
   "execution_count": 85,
   "metadata": {},
   "outputs": [],
   "source": [
    "to_plot = eigvec.copy()\n",
    "to_plot[0] = to_plot[0].apply(lambda x: x[:2])\n",
    "to_plot[1] = to_plot[1].apply(lambda x: x[:2])"
   ]
  },
  {
   "cell_type": "code",
   "execution_count": null,
   "metadata": {},
   "outputs": [],
   "source": []
  },
  {
   "cell_type": "code",
   "execution_count": 117,
   "metadata": {},
   "outputs": [
    {
     "data": {
      "text/plain": [
       "Text(0.5, 0, 'PC 1')"
      ]
     },
     "execution_count": 117,
     "metadata": {},
     "output_type": "execute_result"
    },
    {
     "data": {
      "image/png": "[encoded data removed]",
      "text/plain": [
       "<Figure size 432x288 with 1 Axes>"
      ]
     },
     "metadata": {
      "needs_background": "light"
     },
     "output_type": "display_data"
    }
   ],
   "source": [
    "ax = to_plot.plot.scatter(x=2, y=3, label='0')\n",
    "\n",
    "\n",
    "ax.set_ylabel('PC 2')\n",
    "ax.set_xlabel('PC 1')"
   ]
  },
  {
   "cell_type": "code",
   "execution_count": 56,
   "metadata": {},
   "outputs": [
    {
     "data": {
      "text/plain": [
       "Text(0.5, 1.0, 'Percent Variance Explained by PC')"
      ]
     },
     "execution_count": 56,
     "metadata": {},
     "output_type": "execute_result"
    },
    {
     "data": {
      "image/png": "[encoded data removed]",
      "text/plain": [
       "<Figure size 432x288 with 1 Axes>"
      ]
     },
     "metadata": {
      "needs_background": "light"
     },
     "output_type": "display_data"
    }
   ],
   "source": [
    "perc_var = (eigval[:16])/eigval[0].sum()*100\n",
    "\n",
    "ax = perc_var.plot(kind='bar', legend=False)\n",
    "ax.set_title('Percent Variance Explained by PC')"
   ]
  },
  {
   "cell_type": "code",
   "execution_count": null,
   "metadata": {},
   "outputs": [],
   "source": []
  }
 ],
 "metadata": {
  "kernelspec": {
   "display_name": "Python 3",
   "language": "python",
   "name": "python3"
  },
  "language_info": {
   "codemirror_mode": {
    "name": "ipython",
    "version": 3
   },
   "file_extension": ".py",
   "mimetype": "text/x-python",
   "name": "python",
   "nbconvert_exporter": "python",
   "pygments_lexer": "ipython3",
   "version": "3.7.3"
  }
 },
 "nbformat": 4,
 "nbformat_minor": 2
}
