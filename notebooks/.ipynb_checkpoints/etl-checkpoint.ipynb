{
 "cells": [
  {
   "cell_type": "code",
   "execution_count": 2,
   "metadata": {},
   "outputs": [],
   "source": [
    "import pandas as pd"
   ]
  },
  {
   "cell_type": "code",
   "execution_count": 39,
   "metadata": {},
   "outputs": [
    {
     "name": "stdout",
     "output_type": "stream",
     "text": [
      "zarr 2.4.0 numcodecs 0.6.4\n",
      "0.15.4\n",
      "1.2.1\n",
      "1.76\n"
     ]
    }
   ],
   "source": [
    "# !pip install --user pysam\n",
    "# !pip install --user scikit-allel\n",
    "# !pip install --user biopython\n",
    "# !pip install --user html5lib\n",
    "# !pip install --user pytabix\n",
    "# !pip install --user wget\n",
    "# !pip install --user numcodecs\n",
    "# !pip install --user zarr\n",
    "# !pip install --user ipytree\n",
    "import pysam # module to read BAM alignment files and API to samtools\n",
    "import allel # module to read VCF files\n",
    "import Bio # module to read FASTQ files (Use SeqIO)\n",
    "import wget\n",
    "import numcodecs\n",
    "import zarr\n",
    "import ipytree\n",
    "import urllib\n",
    "\n",
    "print('zarr', zarr.__version__, 'numcodecs', numcodecs.__version__)\n",
    "print(pysam.__version__)\n",
    "print(allel.__version__)\n",
    "print(Bio.__version__)"
   ]
  },
  {
   "cell_type": "code",
   "execution_count": 4,
   "metadata": {},
   "outputs": [],
   "source": [
    "# TENTATIVE: configs for the future??? population, number samples, filetype\n",
    "\n",
    "\n",
    "# base_url = 'ftp://ftp.1000genomes.ebi.ac.uk/vol1/ftp/data_collections/1000_genomes_project/data/'\n",
    "# outpath = './biodata'"
   ]
  },
  {
   "cell_type": "markdown",
   "metadata": {},
   "source": [
    "## Test VCF"
   ]
  },
  {
   "cell_type": "code",
   "execution_count": 14,
   "metadata": {},
   "outputs": [
    {
     "data": {
      "text/plain": [
       "'/home/psheurpu'"
      ]
     },
     "execution_count": 14,
     "metadata": {},
     "output_type": "execute_result"
    }
   ],
   "source": [
    "import os\n",
    "# os.getcwd()"
   ]
  },
  {
   "cell_type": "code",
   "execution_count": 44,
   "metadata": {},
   "outputs": [],
   "source": [
    "import shutil\n",
    "import urllib.request as request\n",
    "from contextlib import closing\n",
    "from urllib.error import URLError\n",
    "\n",
    "import sys\n",
    "import time\n",
    "import urllib\n",
    "import subprocess\n",
    "\n",
    "url = [(\"http://ftp.1000genomes.ebi.ac.uk/vol1/ftp/release/20130502/ALL.chr21.phase3_shapeit2_mvncall_integrated_v5a.20130502.genotypes.vcf.gz\")]\n",
    "outpath = \"./biodata\"\n",
    "\n",
    "### FROM BLOG: https://blog.shichao.io/2012/10/04/progress_speed_indicator_for_urlretrieve_in_python.html\n",
    "# adds download progress bar to urlretrieve\n",
    "def reporthook(count, block_size, total_size):\n",
    "    global start_time\n",
    "    if count == 0:\n",
    "        start_time = time.time()\n",
    "        return\n",
    "    duration = time.time() - start_time\n",
    "    progress_size = int(count * block_size)\n",
    "    speed = int(progress_size / (1024 * duration))\n",
    "    percent = int(count * block_size * 100 / total_size)\n",
    "    sys.stdout.write(\"\\r...%d%%, %d MB, %d KB/s, %d seconds passed\" %\n",
    "                    (percent, progress_size / (1024 * 1024), speed, duration))\n",
    "    sys.stdout.flush()\n",
    "###\n",
    "\n",
    "def get_biodata(urls, outdir):\n",
    "    \"\"\" Feed config file with array of urls, and directory to save at.\n",
    "    \"\"\"\n",
    "    files_downloaded = []\n",
    "    for url in urls:\n",
    "        files_downloaded.append(get_biofile(url, outdir))\n",
    "    return files_downloaded\n",
    "\n",
    "        \n",
    "# in the future maybe specify number, chromosome, population, etc.\n",
    "def get_biofile(url, outdir):\n",
    "    \"\"\" Helper to specifically download one file from url to out directory.\n",
    "    \"\"\"\n",
    "    filename = url.split('/')[-1]\n",
    "    \n",
    "    if not os.path.exists(outdir):\n",
    "        os.mkdir(outdir)\n",
    "\n",
    "    fullpath = os.path.join(outdir, filename) \n",
    "\n",
    "    print(\"Downloading...\")\n",
    "    urllib.request.urlretrieve(url, fullpath, reporthook) # downloads to fullpath\n",
    "    \n",
    "    for_check_zip = '.gz'\n",
    "    if url.endswith(for_check_zip):\n",
    "        print()\n",
    "        print(\"Unzipping\")\n",
    "        subprocess.run([\"unzip\",fullpath])\n",
    "        \n",
    "    return fullpath        \n"
   ]
  },
  {
   "cell_type": "code",
   "execution_count": 48,
   "metadata": {},
   "outputs": [],
   "source": [
    "# can only do vcf for now\n",
    "def process_file(fullpath):\n",
    "    \"\"\" Converts VCF file to zarr format and file.\n",
    "        Fullpath is the path to the file. Outpath is where to put the zarr file.\n",
    "    \"\"\"\n",
    "#     callset = allel.read_vcf(fullpath, fields=['numalt'], log=sys.stdout)\n",
    "    filename = fullpath.split('/')[-1]\n",
    "    \n",
    "#     if not os.path.exists(outdir):\n",
    "#         os.mkdir(outdir)\n",
    "\n",
    "#     zarrpath = os.path.join(outdir, filename) \n",
    "     # choose a name for the zarr storage file\n",
    "    zarrpath = \"\".join(filename.split('.')[:-2])\n",
    "    print(zarrpath)\n",
    "\n",
    "    # CONVERTING TO ZARR STORAGE\n",
    "    allel.vcf_to_zarr(fullpath, zarrpath, #group\n",
    "        fields='*', alt_number=8, log=sys.stdout,\n",
    "        compressor=numcodecs.Blosc(cname='zstd', clevel=1, shuffle=False))\n",
    "\n",
    "\n"
   ]
  },
  {
   "cell_type": "code",
   "execution_count": 46,
   "metadata": {},
   "outputs": [
    {
     "name": "stdout",
     "output_type": "stream",
     "text": [
      "Downloading...\n",
      "...100%, 208 MB, 447 KB/s, 477 seconds passedUnzipping\n"
     ]
    }
   ],
   "source": [
    "#filepaths = get_biodata(url, outpath)"
   ]
  },
  {
   "cell_type": "code",
   "execution_count": 49,
   "metadata": {},
   "outputs": [
    {
     "name": "stdout",
     "output_type": "stream",
     "text": [
      "ALLchr21phase3_shapeit2_mvncall_integrated_v5a20130502genotypes\n",
      "[vcf_to_zarr] 65536 rows in 15.32s; chunk in 15.32s (4277 rows/s); 21\u0000:15597733\n",
      "[vcf_to_zarr] 131072 rows in 33.52s; chunk in 18.20s (3600 rows/s); 21\u0000:17688253\n",
      "[vcf_to_zarr] 196608 rows in 50.97s; chunk in 17.45s (3755 rows/s); 21\u0000:19697865\n",
      "[vcf_to_zarr] 262144 rows in 67.12s; chunk in 16.14s (4059 rows/s); 21\u0000:21745371\n",
      "[vcf_to_zarr] 327680 rows in 83.05s; chunk in 15.93s (4114 rows/s); 21\u0000:23694335\n",
      "[vcf_to_zarr] 393216 rows in 99.51s; chunk in 16.46s (3980 rows/s); 21\u0000:25609367\n",
      "[vcf_to_zarr] 458752 rows in 116.37s; chunk in 16.86s (3886 rows/s); 21\u0000:27761870\n",
      "[vcf_to_zarr] 524288 rows in 132.81s; chunk in 16.44s (3985 rows/s); 21\u0000:29885097\n",
      "[vcf_to_zarr] 589824 rows in 150.19s; chunk in 17.37s (3772 rows/s); 21\u0000:32050808\n",
      "[vcf_to_zarr] 655360 rows in 167.01s; chunk in 16.83s (3894 rows/s); 21\u0000:34251524\n",
      "[vcf_to_zarr] 720896 rows in 183.58s; chunk in 16.56s (3956 rows/s); 21\u0000:36455104\n",
      "[vcf_to_zarr] 786432 rows in 199.86s; chunk in 16.28s (4026 rows/s); 21\u0000:38563725\n",
      "[vcf_to_zarr] 851968 rows in 215.97s; chunk in 16.12s (4066 rows/s); 21\u0000:40757642\n",
      "[vcf_to_zarr] 917504 rows in 232.30s; chunk in 16.32s (4014 rows/s); 21\u0000:42768192\n",
      "[vcf_to_zarr] 983040 rows in 248.78s; chunk in 16.49s (3974 rows/s); 21\u0000:44738104\n",
      "[vcf_to_zarr] 1048576 rows in 264.99s; chunk in 16.20s (4044 rows/s); 21\u0000:46520145\n",
      "[vcf_to_zarr] 1105538 rows in 279.29s; chunk in 14.30s (3982 rows/s)\n",
      "[vcf_to_zarr] all done (3940 rows/s)\n"
     ]
    }
   ],
   "source": [
    "#for file in filepaths:    \n",
    "#     process_file(file)"
   ]
  },
  {
   "cell_type": "code",
   "execution_count": null,
   "metadata": {},
   "outputs": [],
   "source": []
  },
  {
   "cell_type": "code",
   "execution_count": null,
   "metadata": {},
   "outputs": [],
   "source": []
  },
  {
   "cell_type": "code",
   "execution_count": null,
   "metadata": {},
   "outputs": [],
   "source": []
  },
  {
   "cell_type": "code",
   "execution_count": null,
   "metadata": {},
   "outputs": [],
   "source": []
  },
  {
   "cell_type": "code",
   "execution_count": null,
   "metadata": {},
   "outputs": [],
   "source": []
  }
 ],
 "metadata": {
  "kernelspec": {
   "display_name": "Python 3",
   "language": "python",
   "name": "python3"
  },
  "language_info": {
   "codemirror_mode": {
    "name": "ipython",
    "version": 3
   },
   "file_extension": ".py",
   "mimetype": "text/x-python",
   "name": "python",
   "nbconvert_exporter": "python",
   "pygments_lexer": "ipython3",
   "version": "3.7.3"
  }
 },
 "nbformat": 4,
 "nbformat_minor": 2
}
